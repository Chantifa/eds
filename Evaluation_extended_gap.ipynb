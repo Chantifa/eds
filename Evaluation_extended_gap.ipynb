{
 "cells": [
  {
   "cell_type": "markdown",
   "metadata": {},
   "source": [
    "## Evaluation"
   ]
  },
  {
   "cell_type": "markdown",
   "metadata": {},
   "source": [
    "This notebook contains several gaps that should be filled by you."
   ]
  },
  {
   "cell_type": "code",
   "execution_count": 1,
   "metadata": {},
   "outputs": [],
   "source": [
    "from sklearn.neighbors import KNeighborsRegressor\n",
    "import pandas as pd\n",
    "from sklearn.metrics import mean_squared_error, r2_score\n",
    "from sklearn.linear_model import LinearRegression\n",
    "import math\n",
    "from sklearn.model_selection import train_test_split\n",
    "import matplotlib.pyplot as plt\n",
    "%matplotlib inline"
   ]
  },
  {
   "cell_type": "markdown",
   "metadata": {},
   "source": [
    "In this exercise we will use SKLearn. Some important methods of SKLearn are\n",
    "* create a regressor (here nearest neighbor): knn=KNeighborsRegressor(n_neighbors=1) \n",
    "* train a regressor: knn.fit(X,y), where X are the features and y the labels\n",
    "* make a prediction: y=knn.predict(X)\n",
    "* evaluate your regressor (R2-Score): r2_score(y,predictions)\n",
    "* determine root mean square error: math.sqrt(mean_squared_error(y,predictions))"
   ]
  },
  {
   "cell_type": "markdown",
   "metadata": {},
   "source": [
    "We will use the car price prediction file that you find in Moodle."
   ]
  },
  {
   "cell_type": "code",
   "execution_count": 2,
   "metadata": {},
   "outputs": [],
   "source": [
    "def preprocess_table(df):\n",
    "    df=pd.get_dummies(df)\n",
    "    df = df.drop_duplicates()\n",
    "    df=df[df.columns.drop(list(df.filter(regex='Name|Registration')))]\n",
    "    return df"
   ]
  },
  {
   "cell_type": "code",
   "execution_count": 3,
   "metadata": {},
   "outputs": [
    {
     "data": {
      "text/html": [
       "<div>\n",
       "<style scoped>\n",
       "    .dataframe tbody tr th:only-of-type {\n",
       "        vertical-align: middle;\n",
       "    }\n",
       "\n",
       "    .dataframe tbody tr th {\n",
       "        vertical-align: top;\n",
       "    }\n",
       "\n",
       "    .dataframe thead th {\n",
       "        text-align: right;\n",
       "    }\n",
       "</style>\n",
       "<table border=\"1\" class=\"dataframe\">\n",
       "  <thead>\n",
       "    <tr style=\"text-align: right;\">\n",
       "      <th></th>\n",
       "      <th>Price</th>\n",
       "      <th>Mileage</th>\n",
       "      <th>Doors</th>\n",
       "      <th>Horsepower</th>\n",
       "      <th>EngineSize</th>\n",
       "      <th>Seats</th>\n",
       "      <th>Cylinders</th>\n",
       "      <th>Gears</th>\n",
       "      <th>Year</th>\n",
       "      <th>Color_anthrazit</th>\n",
       "      <th>...</th>\n",
       "      <th>Color_grau</th>\n",
       "      <th>Color_grün</th>\n",
       "      <th>Color_orange</th>\n",
       "      <th>Color_pink</th>\n",
       "      <th>Color_rot</th>\n",
       "      <th>Color_schwarz</th>\n",
       "      <th>Color_silber</th>\n",
       "      <th>Color_türkis</th>\n",
       "      <th>Color_violett</th>\n",
       "      <th>Color_weiss</th>\n",
       "    </tr>\n",
       "  </thead>\n",
       "  <tbody>\n",
       "    <tr>\n",
       "      <th>0</th>\n",
       "      <td>44800</td>\n",
       "      <td>27600</td>\n",
       "      <td>2</td>\n",
       "      <td>320</td>\n",
       "      <td>4973</td>\n",
       "      <td>2</td>\n",
       "      <td>8</td>\n",
       "      <td>5</td>\n",
       "      <td>1996</td>\n",
       "      <td>1</td>\n",
       "      <td>...</td>\n",
       "      <td>0</td>\n",
       "      <td>0</td>\n",
       "      <td>0</td>\n",
       "      <td>0</td>\n",
       "      <td>0</td>\n",
       "      <td>0</td>\n",
       "      <td>0</td>\n",
       "      <td>0</td>\n",
       "      <td>0</td>\n",
       "      <td>0</td>\n",
       "    </tr>\n",
       "    <tr>\n",
       "      <th>1</th>\n",
       "      <td>22800</td>\n",
       "      <td>18300</td>\n",
       "      <td>4</td>\n",
       "      <td>286</td>\n",
       "      <td>4398</td>\n",
       "      <td>5</td>\n",
       "      <td>8</td>\n",
       "      <td>5</td>\n",
       "      <td>1999</td>\n",
       "      <td>1</td>\n",
       "      <td>...</td>\n",
       "      <td>0</td>\n",
       "      <td>0</td>\n",
       "      <td>0</td>\n",
       "      <td>0</td>\n",
       "      <td>0</td>\n",
       "      <td>0</td>\n",
       "      <td>0</td>\n",
       "      <td>0</td>\n",
       "      <td>0</td>\n",
       "      <td>0</td>\n",
       "    </tr>\n",
       "    <tr>\n",
       "      <th>2</th>\n",
       "      <td>183710</td>\n",
       "      <td>650</td>\n",
       "      <td>5</td>\n",
       "      <td>350</td>\n",
       "      <td>4172</td>\n",
       "      <td>5</td>\n",
       "      <td>8</td>\n",
       "      <td>6</td>\n",
       "      <td>2008</td>\n",
       "      <td>1</td>\n",
       "      <td>...</td>\n",
       "      <td>0</td>\n",
       "      <td>0</td>\n",
       "      <td>0</td>\n",
       "      <td>0</td>\n",
       "      <td>0</td>\n",
       "      <td>0</td>\n",
       "      <td>0</td>\n",
       "      <td>0</td>\n",
       "      <td>0</td>\n",
       "      <td>0</td>\n",
       "    </tr>\n",
       "    <tr>\n",
       "      <th>3</th>\n",
       "      <td>19900</td>\n",
       "      <td>32000</td>\n",
       "      <td>5</td>\n",
       "      <td>150</td>\n",
       "      <td>2198</td>\n",
       "      <td>7</td>\n",
       "      <td>4</td>\n",
       "      <td>6</td>\n",
       "      <td>2006</td>\n",
       "      <td>1</td>\n",
       "      <td>...</td>\n",
       "      <td>0</td>\n",
       "      <td>0</td>\n",
       "      <td>0</td>\n",
       "      <td>0</td>\n",
       "      <td>0</td>\n",
       "      <td>0</td>\n",
       "      <td>0</td>\n",
       "      <td>0</td>\n",
       "      <td>0</td>\n",
       "      <td>0</td>\n",
       "    </tr>\n",
       "    <tr>\n",
       "      <th>4</th>\n",
       "      <td>18999</td>\n",
       "      <td>118000</td>\n",
       "      <td>5</td>\n",
       "      <td>163</td>\n",
       "      <td>2401</td>\n",
       "      <td>5</td>\n",
       "      <td>5</td>\n",
       "      <td>5</td>\n",
       "      <td>2003</td>\n",
       "      <td>1</td>\n",
       "      <td>...</td>\n",
       "      <td>0</td>\n",
       "      <td>0</td>\n",
       "      <td>0</td>\n",
       "      <td>0</td>\n",
       "      <td>0</td>\n",
       "      <td>0</td>\n",
       "      <td>0</td>\n",
       "      <td>0</td>\n",
       "      <td>0</td>\n",
       "      <td>0</td>\n",
       "    </tr>\n",
       "  </tbody>\n",
       "</table>\n",
       "<p>5 rows × 26 columns</p>\n",
       "</div>"
      ],
      "text/plain": [
       "    Price  Mileage  Doors  Horsepower  EngineSize  Seats  Cylinders  Gears  \\\n",
       "0   44800    27600      2         320        4973      2          8      5   \n",
       "1   22800    18300      4         286        4398      5          8      5   \n",
       "2  183710      650      5         350        4172      5          8      6   \n",
       "3   19900    32000      5         150        2198      7          4      6   \n",
       "4   18999   118000      5         163        2401      5          5      5   \n",
       "\n",
       "   Year  Color_anthrazit     ...       Color_grau  Color_grün  Color_orange  \\\n",
       "0  1996                1     ...                0           0             0   \n",
       "1  1999                1     ...                0           0             0   \n",
       "2  2008                1     ...                0           0             0   \n",
       "3  2006                1     ...                0           0             0   \n",
       "4  2003                1     ...                0           0             0   \n",
       "\n",
       "   Color_pink  Color_rot  Color_schwarz  Color_silber  Color_türkis  \\\n",
       "0           0          0              0             0             0   \n",
       "1           0          0              0             0             0   \n",
       "2           0          0              0             0             0   \n",
       "3           0          0              0             0             0   \n",
       "4           0          0              0             0             0   \n",
       "\n",
       "   Color_violett  Color_weiss  \n",
       "0              0            0  \n",
       "1              0            0  \n",
       "2              0            0  \n",
       "3              0            0  \n",
       "4              0            0  \n",
       "\n",
       "[5 rows x 26 columns]"
      ]
     },
     "execution_count": 3,
     "metadata": {},
     "output_type": "execute_result"
    }
   ],
   "source": [
    "dforig=pd.read_csv('AutoScout24 Dataset.csv')\n",
    "df=preprocess_table(dforig)\n",
    "df.head()\n"
   ]
  },
  {
   "cell_type": "markdown",
   "metadata": {},
   "source": [
    "An important principle of evaluation is that you never evaluate on your training set. While the effect of doing so is moderate for linear methods, some nonlinear approaches like nearest neighbor are capable of (almost) exactly reproducing the values for the dependent variable. Test this for yourself. <font color=\"red\">Fill in the gaps<font>"
   ]
  },
  {
   "cell_type": "code",
   "execution_count": 1,
   "metadata": {},
   "outputs": [
    {
     "ename": "SyntaxError",
     "evalue": "invalid syntax (<ipython-input-1-87f14ee92da2>, line 6)",
     "output_type": "error",
     "traceback": [
      "\u001b[1;36m  File \u001b[1;32m\"<ipython-input-1-87f14ee92da2>\"\u001b[1;36m, line \u001b[1;32m6\u001b[0m\n\u001b[1;33m    *YOUR CODE* # create KNeighborsRegressor\u001b[0m\n\u001b[1;37m          ^\u001b[0m\n\u001b[1;31mSyntaxError\u001b[0m\u001b[1;31m:\u001b[0m invalid syntax\n"
     ]
    }
   ],
   "source": [
    "# train and evaluate your nearest neighbor regressor  on the entire dataset (train and test sets coincide) while setting the number of considered nearest neighbors to \n",
    "# one (n_neighbors=1).\n",
    "X=df\n",
    "X = X.drop('Price', axis=1)\n",
    "y=df[\"Price\"]\n",
    "neigh = KNeighborsRegressor()\n",
    "neigh.fit(X_train, y_train) # create KNeighborsRegressor\n",
    "regr.fit(X,y)\n",
    "predictions=regr.predict(X)\n",
    "predictions,y\n",
    "\n",
    "R2 = *YOUR CODE* #determine R2 and root mean square error \n",
    "RMSE= *YOUR CODE*\n",
    "print (\"R2: \",R2)\n",
    "print (\"RMSE: \",RMSE)\n"
   ]
  },
  {
   "cell_type": "markdown",
   "metadata": {},
   "source": [
    "In contrast, if the data is split into separate training and test sets, nearest neighbor performs much worse, which you should test yourself. <font color=\"red\">Fill in the gaps</font>"
   ]
  },
  {
   "cell_type": "code",
   "execution_count": null,
   "metadata": {},
   "outputs": [],
   "source": [
    "train, test = train_test_split(df, test_size=0.2)\n",
    "Xtrain = train.drop('Price', axis=1)\n",
    "ytrain=train[\"Price\"]\n",
    "knn.fit(Xtrain,ytrain)\n",
    "Xtest=test.drop('Price',axis=1)\n",
    "ytest=test[\"Price\"]\n",
    "\n",
    "*YOUR CODE*\n",
    "R2 = *YOUR CODE*\n",
    "RMSE= *YOUR CODE* \n",
    "print (\"R2: \",R2)\n",
    "\n"
   ]
  },
  {
   "cell_type": "markdown",
   "metadata": {},
   "source": [
    "Now, try to determine the price of your own car(s). For that, first load your custom CSV table from file."
   ]
  },
  {
   "cell_type": "code",
   "execution_count": null,
   "metadata": {},
   "outputs": [],
   "source": [
    "df_my_own_car_orig=*YOUR CODE* // load file eigenes_auto.csv using pandas (see above)\n",
    "print (df_my_own_car_orig)\n",
    "names=df_my_own_car_orig[\"Name\"]"
   ]
  },
  {
   "cell_type": "code",
   "execution_count": null,
   "metadata": {},
   "outputs": [],
   "source": [
    "def merge_into(df_input,df_schema):\n",
    "    df=df_schema[0:0]\n",
    "    columns=df_schema.columns\n",
    "    num_rows=df_input.shape[0]\n",
    "    for row in range(0,num_rows):\n",
    "        new_row={}\n",
    "        for column in columns:\n",
    "            i=column.find(\"_\")\n",
    "            if i==-1:\n",
    "                new_row[column]=df_input[column][row]\n",
    "            else:\n",
    "                key=column[0:i]\n",
    "                val=column[i+1:len(column)]\n",
    "                val2=df_input[key][row]\n",
    "                if val2==val:\n",
    "                    new_row[column]=1\n",
    "                else:\n",
    "                    new_row[column]=0\n",
    "        df=df.append(new_row,ignore_index=True)\n",
    "    return df"
   ]
  },
  {
   "cell_type": "code",
   "execution_count": null,
   "metadata": {},
   "outputs": [],
   "source": [
    "Make sure your new file has the same columns as the training file (including the one that were automatically generated with get_dummies())"
   ]
  },
  {
   "cell_type": "code",
   "execution_count": null,
   "metadata": {},
   "outputs": [],
   "source": [
    "df_my_own_car=merge_into(df_my_own_car_orig,df)\n",
    "df_my_own_car"
   ]
  },
  {
   "cell_type": "code",
   "execution_count": null,
   "metadata": {},
   "outputs": [],
   "source": [
    "Then apply the model to obtain the prices"
   ]
  },
  {
   "cell_type": "code",
   "execution_count": null,
   "metadata": {},
   "outputs": [],
   "source": [
    "predict = df_my_own_car.drop('Price', axis=1)\n",
    "prices=** YOUR CODE ** use the KNNRegressor to predict the car prices (Hint: see below)\n",
    "for i in range(0,len(prices)):\n",
    "    print (\"car name: \",names[i],\" Price: \",prices[i])"
   ]
  },
  {
   "cell_type": "markdown",
   "metadata": {},
   "source": [
    "Another important evaluation measure besides R2 und RMSE is the learning curve that shows how an approach performs (here in terms of R2) with varying amount  of training data. For this, the R2 values are obtained in several iterations, in which the training data is successively  extended. In order to obtain a smooth curve, the training data for a given iteration \n",
    "    should always contain all the training data belonging to previous iterations. Let us draw such a learning curve. <font color=\"red\">Fill in the gaps</font>\n",
    "    "
   ]
  },
  {
   "cell_type": "code",
   "execution_count": null,
   "metadata": {},
   "outputs": [],
   "source": [
    "R2s=[]\n",
    "percentages=[]\n",
    "## let us use 10 neighbors now\n",
    "knn=KNeighborsRegressor(n_neighbors=20)\n",
    "num_rows=df.shape[0]\n",
    "\n",
    "# randomly permutate all the data\n",
    "df=df.sample(frac=1)\n",
    "df.iloc[start,end]\n",
    "\n",
    "for i in range(1,30):\n",
    "    # percentage of training data used\n",
    "    percentage_train=(i/40)\n",
    "    *YOUR CODE*\n",
    "    R2s.append(*YOUR CODE*)\n",
    "    percentages.append(percentage_train)\n",
    "\n",
    "plt.plot(percentages, R2s, label=\"Learning curve\")   \n",
    "plt.show()"
   ]
  },
  {
   "cell_type": "markdown",
   "metadata": {},
   "source": [
    "If the available data is sparse, then your evaluation metrics can become quite unreliable. In this case a technique called cross validation becomes handy. The idea behind cross validation is that you divide your data into n parts (usually n=10), conduct n iterations and use in each iterations one part for testing and all the other parts for training. Let's try this out on our example dataset. Since nearest neighbor performs rather slowly on our example dataset, we instead resort to linear regression for this task. <font color=\"red\">Fill in the gaps</font>"
   ]
  },
  {
   "cell_type": "code",
   "execution_count": null,
   "metadata": {},
   "outputs": [],
   "source": [
    "regression=LinearRegression()\n",
    "all_predictions=[]\n",
    "# we want to do a 10-fold cross validation, thus the number of entries in the dataset has to be a multiple of 10\n",
    "df=df.iloc[0:54730]\n",
    "\n",
    "\n",
    "y=df[\"Price\"]\n",
    "for i in range(0,10):\n",
    "    *YOUR CODE*\n",
    "    \n",
    "    # test data ranges from i/10*size to (i+1)/10*size (exclusive)\n",
    "\n",
    "    # all the remaining data is used for training\n",
    "        \n",
    "    # obtain predictions and store them in a large list\n",
    "    predictions=regression.predict(*YOUR CODE*)\n",
    "    all_predictions.extend(predictions)\n",
    " \n",
    "\n",
    "# determine and print out R2 \n",
    "print(\"R2: \",r2_score(y,all_predictions))\n",
    "\n"
   ]
  },
  {
   "cell_type": "code",
   "execution_count": null,
   "metadata": {},
   "outputs": [],
   "source": []
  }
 ],
 "metadata": {
  "kernelspec": {
   "display_name": "Python 3",
   "language": "python",
   "name": "python3"
  },
  "language_info": {
   "codemirror_mode": {
    "name": "ipython",
    "version": 3
   },
   "file_extension": ".py",
   "mimetype": "text/x-python",
   "name": "python",
   "nbconvert_exporter": "python",
   "pygments_lexer": "ipython3",
   "version": "3.8.3"
  }
 },
 "nbformat": 4,
 "nbformat_minor": 2
}
